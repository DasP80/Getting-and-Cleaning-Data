{
 "cells": [
  {
   "cell_type": "code",
   "execution_count": 252,
   "metadata": {
    "collapsed": true
   },
   "outputs": [],
   "source": [
    "# download the dataset from the URL\n",
    "if (!file.exists(\"./data\")) {dir.create(\"./data\")}\n",
    "fileurl <- \"https://d396qusza40orc.cloudfront.net/getdata%2Fprojectfiles%2FUCI%20HAR%20Dataset.zip\"\n",
    "filename <- \"./data/uci_smartphone_data.zip\"\n",
    "download.file(fileurl, destfile = filename,method = \"curl\")"
   ]
  },
  {
   "cell_type": "code",
   "execution_count": 253,
   "metadata": {
    "collapsed": true
   },
   "outputs": [],
   "source": [
    "# Unzip dataSet \n",
    "unzip(zipfile=\"./data/uci_smartphone_data.zip\",exdir=\"./data\")"
   ]
  },
  {
   "cell_type": "markdown",
   "metadata": {},
   "source": [
    "# Read the data"
   ]
  },
  {
   "cell_type": "code",
   "execution_count": 254,
   "metadata": {
    "collapsed": true
   },
   "outputs": [],
   "source": [
    "# Reading activity labels:\n",
    "activity = read.table('./data/UCI HAR Dataset/activity_labels.txt')"
   ]
  },
  {
   "cell_type": "code",
   "execution_count": 255,
   "metadata": {},
   "outputs": [
    {
     "data": {
      "text/html": [
       "<table>\n",
       "<thead><tr><th scope=col>V1</th><th scope=col>V2</th></tr></thead>\n",
       "<tbody>\n",
       "\t<tr><td>1                 </td><td>WALKING           </td></tr>\n",
       "\t<tr><td>2                 </td><td>WALKING_UPSTAIRS  </td></tr>\n",
       "\t<tr><td>3                 </td><td>WALKING_DOWNSTAIRS</td></tr>\n",
       "\t<tr><td>4                 </td><td>SITTING           </td></tr>\n",
       "\t<tr><td>5                 </td><td>STANDING          </td></tr>\n",
       "\t<tr><td>6                 </td><td>LAYING            </td></tr>\n",
       "</tbody>\n",
       "</table>\n"
      ],
      "text/latex": [
       "\\begin{tabular}{r|ll}\n",
       " V1 & V2\\\\\n",
       "\\hline\n",
       "\t 1                  & WALKING           \\\\\n",
       "\t 2                    & WALKING\\_UPSTAIRS  \\\\\n",
       "\t 3                    & WALKING\\_DOWNSTAIRS\\\\\n",
       "\t 4                  & SITTING           \\\\\n",
       "\t 5                  & STANDING          \\\\\n",
       "\t 6                  & LAYING            \\\\\n",
       "\\end{tabular}\n"
      ],
      "text/markdown": [
       "\n",
       "V1 | V2 | \n",
       "|---|---|---|---|---|---|\n",
       "| 1                  | WALKING            | \n",
       "| 2                  | WALKING_UPSTAIRS   | \n",
       "| 3                  | WALKING_DOWNSTAIRS | \n",
       "| 4                  | SITTING            | \n",
       "| 5                  | STANDING           | \n",
       "| 6                  | LAYING             | \n",
       "\n",
       "\n"
      ],
      "text/plain": [
       "  V1 V2                \n",
       "1 1  WALKING           \n",
       "2 2  WALKING_UPSTAIRS  \n",
       "3 3  WALKING_DOWNSTAIRS\n",
       "4 4  SITTING           \n",
       "5 5  STANDING          \n",
       "6 6  LAYING            "
      ]
     },
     "metadata": {},
     "output_type": "display_data"
    }
   ],
   "source": [
    "activity"
   ]
  },
  {
   "cell_type": "code",
   "execution_count": 258,
   "metadata": {
    "collapsed": true
   },
   "outputs": [],
   "source": [
    "# assign column names\n",
    "names(activity) <- c(\"activityId\", \"activityName\")"
   ]
  },
  {
   "cell_type": "code",
   "execution_count": 259,
   "metadata": {},
   "outputs": [
    {
     "data": {
      "text/html": [
       "<table>\n",
       "<thead><tr><th scope=col>activityId</th><th scope=col>activityName</th></tr></thead>\n",
       "<tbody>\n",
       "\t<tr><td>1                 </td><td>WALKING           </td></tr>\n",
       "\t<tr><td>2                 </td><td>WALKING_UPSTAIRS  </td></tr>\n",
       "\t<tr><td>3                 </td><td>WALKING_DOWNSTAIRS</td></tr>\n",
       "\t<tr><td>4                 </td><td>SITTING           </td></tr>\n",
       "\t<tr><td>5                 </td><td>STANDING          </td></tr>\n",
       "\t<tr><td>6                 </td><td>LAYING            </td></tr>\n",
       "</tbody>\n",
       "</table>\n"
      ],
      "text/latex": [
       "\\begin{tabular}{r|ll}\n",
       " activityId & activityName\\\\\n",
       "\\hline\n",
       "\t 1                  & WALKING           \\\\\n",
       "\t 2                    & WALKING\\_UPSTAIRS  \\\\\n",
       "\t 3                    & WALKING\\_DOWNSTAIRS\\\\\n",
       "\t 4                  & SITTING           \\\\\n",
       "\t 5                  & STANDING          \\\\\n",
       "\t 6                  & LAYING            \\\\\n",
       "\\end{tabular}\n"
      ],
      "text/markdown": [
       "\n",
       "activityId | activityName | \n",
       "|---|---|---|---|---|---|\n",
       "| 1                  | WALKING            | \n",
       "| 2                  | WALKING_UPSTAIRS   | \n",
       "| 3                  | WALKING_DOWNSTAIRS | \n",
       "| 4                  | SITTING            | \n",
       "| 5                  | STANDING           | \n",
       "| 6                  | LAYING             | \n",
       "\n",
       "\n"
      ],
      "text/plain": [
       "  activityId activityName      \n",
       "1 1          WALKING           \n",
       "2 2          WALKING_UPSTAIRS  \n",
       "3 3          WALKING_DOWNSTAIRS\n",
       "4 4          SITTING           \n",
       "5 5          STANDING          \n",
       "6 6          LAYING            "
      ]
     },
     "metadata": {},
     "output_type": "display_data"
    }
   ],
   "source": [
    "activity"
   ]
  },
  {
   "cell_type": "code",
   "execution_count": 260,
   "metadata": {},
   "outputs": [
    {
     "data": {
      "text/html": [
       "<table>\n",
       "<thead><tr><th scope=col>V1</th><th scope=col>V2</th></tr></thead>\n",
       "<tbody>\n",
       "\t<tr><td>1                </td><td>tBodyAcc-mean()-X</td></tr>\n",
       "\t<tr><td>2                </td><td>tBodyAcc-mean()-Y</td></tr>\n",
       "\t<tr><td>3                </td><td>tBodyAcc-mean()-Z</td></tr>\n",
       "\t<tr><td>4                </td><td>tBodyAcc-std()-X </td></tr>\n",
       "\t<tr><td>5                </td><td>tBodyAcc-std()-Y </td></tr>\n",
       "</tbody>\n",
       "</table>\n"
      ],
      "text/latex": [
       "\\begin{tabular}{r|ll}\n",
       " V1 & V2\\\\\n",
       "\\hline\n",
       "\t 1                 & tBodyAcc-mean()-X\\\\\n",
       "\t 2                 & tBodyAcc-mean()-Y\\\\\n",
       "\t 3                 & tBodyAcc-mean()-Z\\\\\n",
       "\t 4                 & tBodyAcc-std()-X \\\\\n",
       "\t 5                 & tBodyAcc-std()-Y \\\\\n",
       "\\end{tabular}\n"
      ],
      "text/markdown": [
       "\n",
       "V1 | V2 | \n",
       "|---|---|---|---|---|\n",
       "| 1                 | tBodyAcc-mean()-X | \n",
       "| 2                 | tBodyAcc-mean()-Y | \n",
       "| 3                 | tBodyAcc-mean()-Z | \n",
       "| 4                 | tBodyAcc-std()-X  | \n",
       "| 5                 | tBodyAcc-std()-Y  | \n",
       "\n",
       "\n"
      ],
      "text/plain": [
       "  V1 V2               \n",
       "1 1  tBodyAcc-mean()-X\n",
       "2 2  tBodyAcc-mean()-Y\n",
       "3 3  tBodyAcc-mean()-Z\n",
       "4 4  tBodyAcc-std()-X \n",
       "5 5  tBodyAcc-std()-Y "
      ]
     },
     "metadata": {},
     "output_type": "display_data"
    }
   ],
   "source": [
    "# Reading feature data:\n",
    "features <- read.table('./data/UCI HAR Dataset/features.txt')\n",
    "head(features, 5)"
   ]
  },
  {
   "cell_type": "code",
   "execution_count": 261,
   "metadata": {},
   "outputs": [
    {
     "data": {
      "text/html": [
       "<table>\n",
       "<thead><tr><th scope=col>V1</th><th scope=col>V2</th><th scope=col>V3</th><th scope=col>V4</th><th scope=col>V5</th><th scope=col>V6</th><th scope=col>V7</th><th scope=col>V8</th><th scope=col>V9</th><th scope=col>V10</th><th scope=col>...</th><th scope=col>V552</th><th scope=col>V553</th><th scope=col>V554</th><th scope=col>V555</th><th scope=col>V556</th><th scope=col>V557</th><th scope=col>V558</th><th scope=col>V559</th><th scope=col>V560</th><th scope=col>V561</th></tr></thead>\n",
       "<tbody>\n",
       "\t<tr><td>0.2885845   </td><td>-0.02029417 </td><td>-0.1329051  </td><td>-0.9952786  </td><td>-0.9831106  </td><td>-0.9135264  </td><td>-0.9951121  </td><td>-0.9831846  </td><td>-0.9235270  </td><td>-0.9347238  </td><td>...         </td><td>-0.07432303 </td><td>-0.2986764  </td><td>-0.7103041  </td><td>-0.11275434 </td><td> 0.030400372</td><td>-0.4647614  </td><td>-0.01844588 </td><td>-0.8412468  </td><td>0.1799406   </td><td>-0.05862692 </td></tr>\n",
       "\t<tr><td>0.2784188   </td><td>-0.01641057 </td><td>-0.1235202  </td><td>-0.9982453  </td><td>-0.9753002  </td><td>-0.9603220  </td><td>-0.9988072  </td><td>-0.9749144  </td><td>-0.9576862  </td><td>-0.9430675  </td><td>...         </td><td> 0.15807454 </td><td>-0.5950509  </td><td>-0.8614993  </td><td> 0.05347695 </td><td>-0.007434566</td><td>-0.7326262  </td><td> 0.70351059 </td><td>-0.8447876  </td><td>0.1802889   </td><td>-0.05431672 </td></tr>\n",
       "\t<tr><td>0.2796531   </td><td>-0.01946716 </td><td>-0.1134617  </td><td>-0.9953796  </td><td>-0.9671870  </td><td>-0.9789440  </td><td>-0.9965199  </td><td>-0.9636684  </td><td>-0.9774686  </td><td>-0.9386916  </td><td>...         </td><td> 0.41450281 </td><td>-0.3907482  </td><td>-0.7601037  </td><td>-0.11855926 </td><td> 0.177899480</td><td> 0.1006992  </td><td> 0.80852908 </td><td>-0.8489335  </td><td>0.1806373   </td><td>-0.04911782 </td></tr>\n",
       "\t<tr><td>0.2791739   </td><td>-0.02620065 </td><td>-0.1232826  </td><td>-0.9960915  </td><td>-0.9834027  </td><td>-0.9906751  </td><td>-0.9970995  </td><td>-0.9827498  </td><td>-0.9893025  </td><td>-0.9386916  </td><td>...         </td><td> 0.40457253 </td><td>-0.1172902  </td><td>-0.4828445  </td><td>-0.03678797 </td><td>-0.012892494</td><td> 0.6400110  </td><td>-0.48536645 </td><td>-0.8486494  </td><td>0.1819348   </td><td>-0.04766318 </td></tr>\n",
       "\t<tr><td>0.2766288   </td><td>-0.01656965 </td><td>-0.1153619  </td><td>-0.9981386  </td><td>-0.9808173  </td><td>-0.9904816  </td><td>-0.9983211  </td><td>-0.9796719  </td><td>-0.9904411  </td><td>-0.9424691  </td><td>...         </td><td> 0.08775301 </td><td>-0.3514709  </td><td>-0.6992052  </td><td> 0.12332005 </td><td> 0.122541960</td><td> 0.6935783  </td><td>-0.61597061 </td><td>-0.8478653  </td><td>0.1851512   </td><td>-0.04389225 </td></tr>\n",
       "\t<tr><td>0.2771988   </td><td>-0.01009785 </td><td>-0.1051373  </td><td>-0.9973350  </td><td>-0.9904868  </td><td>-0.9954200  </td><td>-0.9976274  </td><td>-0.9902177  </td><td>-0.9955489  </td><td>-0.9424691  </td><td>...         </td><td> 0.01995331 </td><td>-0.5454101  </td><td>-0.8446193  </td><td> 0.08263215 </td><td>-0.143439010</td><td> 0.2750408  </td><td>-0.36822404 </td><td>-0.8496316  </td><td>0.1848225   </td><td>-0.04212638 </td></tr>\n",
       "</tbody>\n",
       "</table>\n"
      ],
      "text/latex": [
       "\\begin{tabular}{r|lllllllllllllllllllllllllllllllllllllllllllllllllllllllllllllllllllllllllllllllllllllllllllllllllllllllllllllllllllllllllllllllllllllllllllllllllllllllllllllllllllllllllllllllllllllllllllllllllllllllllllllllllllllllllllllllllllllllllllllllllllllllllllllllllllllllllllllllllllllllllllllllllllllllllllllllllllllllllllllllllllllllllllllllllllllllllllllllllllllllllllllllllllllllllllllllllllllllllllllllllllllllllllllllllllllllllllllllllllllllllllllllllllllllllllllllllllllllllllllllllllllllllllllllllllllllllllllllllllllllllllllllllllllllllllllllllllllllllllllllll}\n",
       " V1 & V2 & V3 & V4 & V5 & V6 & V7 & V8 & V9 & V10 & ... & V552 & V553 & V554 & V555 & V556 & V557 & V558 & V559 & V560 & V561\\\\\n",
       "\\hline\n",
       "\t 0.2885845    & -0.02029417  & -0.1329051   & -0.9952786   & -0.9831106   & -0.9135264   & -0.9951121   & -0.9831846   & -0.9235270   & -0.9347238   & ...          & -0.07432303  & -0.2986764   & -0.7103041   & -0.11275434  &  0.030400372 & -0.4647614   & -0.01844588  & -0.8412468   & 0.1799406    & -0.05862692 \\\\\n",
       "\t 0.2784188    & -0.01641057  & -0.1235202   & -0.9982453   & -0.9753002   & -0.9603220   & -0.9988072   & -0.9749144   & -0.9576862   & -0.9430675   & ...          &  0.15807454  & -0.5950509   & -0.8614993   &  0.05347695  & -0.007434566 & -0.7326262   &  0.70351059  & -0.8447876   & 0.1802889    & -0.05431672 \\\\\n",
       "\t 0.2796531    & -0.01946716  & -0.1134617   & -0.9953796   & -0.9671870   & -0.9789440   & -0.9965199   & -0.9636684   & -0.9774686   & -0.9386916   & ...          &  0.41450281  & -0.3907482   & -0.7601037   & -0.11855926  &  0.177899480 &  0.1006992   &  0.80852908  & -0.8489335   & 0.1806373    & -0.04911782 \\\\\n",
       "\t 0.2791739    & -0.02620065  & -0.1232826   & -0.9960915   & -0.9834027   & -0.9906751   & -0.9970995   & -0.9827498   & -0.9893025   & -0.9386916   & ...          &  0.40457253  & -0.1172902   & -0.4828445   & -0.03678797  & -0.012892494 &  0.6400110   & -0.48536645  & -0.8486494   & 0.1819348    & -0.04766318 \\\\\n",
       "\t 0.2766288    & -0.01656965  & -0.1153619   & -0.9981386   & -0.9808173   & -0.9904816   & -0.9983211   & -0.9796719   & -0.9904411   & -0.9424691   & ...          &  0.08775301  & -0.3514709   & -0.6992052   &  0.12332005  &  0.122541960 &  0.6935783   & -0.61597061  & -0.8478653   & 0.1851512    & -0.04389225 \\\\\n",
       "\t 0.2771988    & -0.01009785  & -0.1051373   & -0.9973350   & -0.9904868   & -0.9954200   & -0.9976274   & -0.9902177   & -0.9955489   & -0.9424691   & ...          &  0.01995331  & -0.5454101   & -0.8446193   &  0.08263215  & -0.143439010 &  0.2750408   & -0.36822404  & -0.8496316   & 0.1848225    & -0.04212638 \\\\\n",
       "\\end{tabular}\n"
      ],
      "text/markdown": [
       "\n",
       "V1 | V2 | V3 | V4 | V5 | V6 | V7 | V8 | V9 | V10 | ... | V552 | V553 | V554 | V555 | V556 | V557 | V558 | V559 | V560 | V561 | \n",
       "|---|---|---|---|---|---|\n",
       "| 0.2885845    | -0.02029417  | -0.1329051   | -0.9952786   | -0.9831106   | -0.9135264   | -0.9951121   | -0.9831846   | -0.9235270   | -0.9347238   | ...          | -0.07432303  | -0.2986764   | -0.7103041   | -0.11275434  |  0.030400372 | -0.4647614   | -0.01844588  | -0.8412468   | 0.1799406    | -0.05862692  | \n",
       "| 0.2784188    | -0.01641057  | -0.1235202   | -0.9982453   | -0.9753002   | -0.9603220   | -0.9988072   | -0.9749144   | -0.9576862   | -0.9430675   | ...          |  0.15807454  | -0.5950509   | -0.8614993   |  0.05347695  | -0.007434566 | -0.7326262   |  0.70351059  | -0.8447876   | 0.1802889    | -0.05431672  | \n",
       "| 0.2796531    | -0.01946716  | -0.1134617   | -0.9953796   | -0.9671870   | -0.9789440   | -0.9965199   | -0.9636684   | -0.9774686   | -0.9386916   | ...          |  0.41450281  | -0.3907482   | -0.7601037   | -0.11855926  |  0.177899480 |  0.1006992   |  0.80852908  | -0.8489335   | 0.1806373    | -0.04911782  | \n",
       "| 0.2791739    | -0.02620065  | -0.1232826   | -0.9960915   | -0.9834027   | -0.9906751   | -0.9970995   | -0.9827498   | -0.9893025   | -0.9386916   | ...          |  0.40457253  | -0.1172902   | -0.4828445   | -0.03678797  | -0.012892494 |  0.6400110   | -0.48536645  | -0.8486494   | 0.1819348    | -0.04766318  | \n",
       "| 0.2766288    | -0.01656965  | -0.1153619   | -0.9981386   | -0.9808173   | -0.9904816   | -0.9983211   | -0.9796719   | -0.9904411   | -0.9424691   | ...          |  0.08775301  | -0.3514709   | -0.6992052   |  0.12332005  |  0.122541960 |  0.6935783   | -0.61597061  | -0.8478653   | 0.1851512    | -0.04389225  | \n",
       "| 0.2771988    | -0.01009785  | -0.1051373   | -0.9973350   | -0.9904868   | -0.9954200   | -0.9976274   | -0.9902177   | -0.9955489   | -0.9424691   | ...          |  0.01995331  | -0.5454101   | -0.8446193   |  0.08263215  | -0.143439010 |  0.2750408   | -0.36822404  | -0.8496316   | 0.1848225    | -0.04212638  | \n",
       "\n",
       "\n"
      ],
      "text/plain": [
       "  V1        V2          V3         V4         V5         V6         V7        \n",
       "1 0.2885845 -0.02029417 -0.1329051 -0.9952786 -0.9831106 -0.9135264 -0.9951121\n",
       "2 0.2784188 -0.01641057 -0.1235202 -0.9982453 -0.9753002 -0.9603220 -0.9988072\n",
       "3 0.2796531 -0.01946716 -0.1134617 -0.9953796 -0.9671870 -0.9789440 -0.9965199\n",
       "4 0.2791739 -0.02620065 -0.1232826 -0.9960915 -0.9834027 -0.9906751 -0.9970995\n",
       "5 0.2766288 -0.01656965 -0.1153619 -0.9981386 -0.9808173 -0.9904816 -0.9983211\n",
       "6 0.2771988 -0.01009785 -0.1051373 -0.9973350 -0.9904868 -0.9954200 -0.9976274\n",
       "  V8         V9         V10        ... V552        V553       V554      \n",
       "1 -0.9831846 -0.9235270 -0.9347238 ... -0.07432303 -0.2986764 -0.7103041\n",
       "2 -0.9749144 -0.9576862 -0.9430675 ...  0.15807454 -0.5950509 -0.8614993\n",
       "3 -0.9636684 -0.9774686 -0.9386916 ...  0.41450281 -0.3907482 -0.7601037\n",
       "4 -0.9827498 -0.9893025 -0.9386916 ...  0.40457253 -0.1172902 -0.4828445\n",
       "5 -0.9796719 -0.9904411 -0.9424691 ...  0.08775301 -0.3514709 -0.6992052\n",
       "6 -0.9902177 -0.9955489 -0.9424691 ...  0.01995331 -0.5454101 -0.8446193\n",
       "  V555        V556         V557       V558        V559       V560     \n",
       "1 -0.11275434  0.030400372 -0.4647614 -0.01844588 -0.8412468 0.1799406\n",
       "2  0.05347695 -0.007434566 -0.7326262  0.70351059 -0.8447876 0.1802889\n",
       "3 -0.11855926  0.177899480  0.1006992  0.80852908 -0.8489335 0.1806373\n",
       "4 -0.03678797 -0.012892494  0.6400110 -0.48536645 -0.8486494 0.1819348\n",
       "5  0.12332005  0.122541960  0.6935783 -0.61597061 -0.8478653 0.1851512\n",
       "6  0.08263215 -0.143439010  0.2750408 -0.36822404 -0.8496316 0.1848225\n",
       "  V561       \n",
       "1 -0.05862692\n",
       "2 -0.05431672\n",
       "3 -0.04911782\n",
       "4 -0.04766318\n",
       "5 -0.04389225\n",
       "6 -0.04212638"
      ]
     },
     "metadata": {},
     "output_type": "display_data"
    }
   ],
   "source": [
    "# Reading trainings table features\n",
    "x_train <- read.table(\"./data/UCI HAR Dataset/train/X_train.txt\")\n",
    "head(x_train)"
   ]
  },
  {
   "cell_type": "code",
   "execution_count": 262,
   "metadata": {},
   "outputs": [
    {
     "data": {
      "text/html": [
       "<ol class=list-inline>\n",
       "\t<li>7352</li>\n",
       "\t<li>561</li>\n",
       "</ol>\n"
      ],
      "text/latex": [
       "\\begin{enumerate*}\n",
       "\\item 7352\n",
       "\\item 561\n",
       "\\end{enumerate*}\n"
      ],
      "text/markdown": [
       "1. 7352\n",
       "2. 561\n",
       "\n",
       "\n"
      ],
      "text/plain": [
       "[1] 7352  561"
      ]
     },
     "metadata": {},
     "output_type": "display_data"
    }
   ],
   "source": [
    "dim(x_train)"
   ]
  },
  {
   "cell_type": "code",
   "execution_count": 274,
   "metadata": {},
   "outputs": [],
   "source": [
    "# assign column names to x_train data\n",
    "colnames(x_train) <- features[,2]"
   ]
  },
  {
   "cell_type": "code",
   "execution_count": 264,
   "metadata": {},
   "outputs": [
    {
     "data": {
      "text/html": [
       "<table>\n",
       "<thead><tr><th scope=col>tBodyAcc-mean()-X</th><th scope=col>tBodyAcc-mean()-Y</th><th scope=col>tBodyAcc-mean()-Z</th><th scope=col>tBodyAcc-std()-X</th><th scope=col>tBodyAcc-std()-Y</th><th scope=col>tBodyAcc-std()-Z</th><th scope=col>tBodyAcc-mad()-X</th><th scope=col>tBodyAcc-mad()-Y</th><th scope=col>tBodyAcc-mad()-Z</th><th scope=col>tBodyAcc-max()-X</th><th scope=col>...</th><th scope=col>fBodyBodyGyroJerkMag-meanFreq()</th><th scope=col>fBodyBodyGyroJerkMag-skewness()</th><th scope=col>fBodyBodyGyroJerkMag-kurtosis()</th><th scope=col>angle(tBodyAccMean,gravity)</th><th scope=col>angle(tBodyAccJerkMean),gravityMean)</th><th scope=col>angle(tBodyGyroMean,gravityMean)</th><th scope=col>angle(tBodyGyroJerkMean,gravityMean)</th><th scope=col>angle(X,gravityMean)</th><th scope=col>angle(Y,gravityMean)</th><th scope=col>angle(Z,gravityMean)</th></tr></thead>\n",
       "<tbody>\n",
       "\t<tr><td>0.2885845   </td><td>-0.02029417 </td><td>-0.1329051  </td><td>-0.9952786  </td><td>-0.9831106  </td><td>-0.9135264  </td><td>-0.9951121  </td><td>-0.9831846  </td><td>-0.9235270  </td><td>-0.9347238  </td><td>...         </td><td>-0.07432303 </td><td>-0.2986764  </td><td>-0.7103041  </td><td>-0.11275434 </td><td> 0.030400372</td><td>-0.4647614  </td><td>-0.01844588 </td><td>-0.8412468  </td><td>0.1799406   </td><td>-0.05862692 </td></tr>\n",
       "\t<tr><td>0.2784188   </td><td>-0.01641057 </td><td>-0.1235202  </td><td>-0.9982453  </td><td>-0.9753002  </td><td>-0.9603220  </td><td>-0.9988072  </td><td>-0.9749144  </td><td>-0.9576862  </td><td>-0.9430675  </td><td>...         </td><td> 0.15807454 </td><td>-0.5950509  </td><td>-0.8614993  </td><td> 0.05347695 </td><td>-0.007434566</td><td>-0.7326262  </td><td> 0.70351059 </td><td>-0.8447876  </td><td>0.1802889   </td><td>-0.05431672 </td></tr>\n",
       "\t<tr><td>0.2796531   </td><td>-0.01946716 </td><td>-0.1134617  </td><td>-0.9953796  </td><td>-0.9671870  </td><td>-0.9789440  </td><td>-0.9965199  </td><td>-0.9636684  </td><td>-0.9774686  </td><td>-0.9386916  </td><td>...         </td><td> 0.41450281 </td><td>-0.3907482  </td><td>-0.7601037  </td><td>-0.11855926 </td><td> 0.177899480</td><td> 0.1006992  </td><td> 0.80852908 </td><td>-0.8489335  </td><td>0.1806373   </td><td>-0.04911782 </td></tr>\n",
       "\t<tr><td>0.2791739   </td><td>-0.02620065 </td><td>-0.1232826  </td><td>-0.9960915  </td><td>-0.9834027  </td><td>-0.9906751  </td><td>-0.9970995  </td><td>-0.9827498  </td><td>-0.9893025  </td><td>-0.9386916  </td><td>...         </td><td> 0.40457253 </td><td>-0.1172902  </td><td>-0.4828445  </td><td>-0.03678797 </td><td>-0.012892494</td><td> 0.6400110  </td><td>-0.48536645 </td><td>-0.8486494  </td><td>0.1819348   </td><td>-0.04766318 </td></tr>\n",
       "\t<tr><td>0.2766288   </td><td>-0.01656965 </td><td>-0.1153619  </td><td>-0.9981386  </td><td>-0.9808173  </td><td>-0.9904816  </td><td>-0.9983211  </td><td>-0.9796719  </td><td>-0.9904411  </td><td>-0.9424691  </td><td>...         </td><td> 0.08775301 </td><td>-0.3514709  </td><td>-0.6992052  </td><td> 0.12332005 </td><td> 0.122541960</td><td> 0.6935783  </td><td>-0.61597061 </td><td>-0.8478653  </td><td>0.1851512   </td><td>-0.04389225 </td></tr>\n",
       "\t<tr><td>0.2771988   </td><td>-0.01009785 </td><td>-0.1051373  </td><td>-0.9973350  </td><td>-0.9904868  </td><td>-0.9954200  </td><td>-0.9976274  </td><td>-0.9902177  </td><td>-0.9955489  </td><td>-0.9424691  </td><td>...         </td><td> 0.01995331 </td><td>-0.5454101  </td><td>-0.8446193  </td><td> 0.08263215 </td><td>-0.143439010</td><td> 0.2750408  </td><td>-0.36822404 </td><td>-0.8496316  </td><td>0.1848225   </td><td>-0.04212638 </td></tr>\n",
       "</tbody>\n",
       "</table>\n"
      ],
      "text/latex": [
       "\\begin{tabular}{r|lllllllllllllllllllllllllllllllllllllllllllllllllllllllllllllllllllllllllllllllllllllllllllllllllllllllllllllllllllllllllllllllllllllllllllllllllllllllllllllllllllllllllllllllllllllllllllllllllllllllllllllllllllllllllllllllllllllllllllllllllllllllllllllllllllllllllllllllllllllllllllllllllllllllllllllllllllllllllllllllllllllllllllllllllllllllllllllllllllllllllllllllllllllllllllllllllllllllllllllllllllllllllllllllllllllllllllllllllllllllllllllllllllllllllllllllllllllllllllllllllllllllllllllllllllllllllllllllllllllllllllllllllllllllllllllllllllllllllllllllll}\n",
       " tBodyAcc-mean()-X & tBodyAcc-mean()-Y & tBodyAcc-mean()-Z & tBodyAcc-std()-X & tBodyAcc-std()-Y & tBodyAcc-std()-Z & tBodyAcc-mad()-X & tBodyAcc-mad()-Y & tBodyAcc-mad()-Z & tBodyAcc-max()-X & ... & fBodyBodyGyroJerkMag-meanFreq() & fBodyBodyGyroJerkMag-skewness() & fBodyBodyGyroJerkMag-kurtosis() & angle(tBodyAccMean,gravity) & angle(tBodyAccJerkMean),gravityMean) & angle(tBodyGyroMean,gravityMean) & angle(tBodyGyroJerkMean,gravityMean) & angle(X,gravityMean) & angle(Y,gravityMean) & angle(Z,gravityMean)\\\\\n",
       "\\hline\n",
       "\t 0.2885845    & -0.02029417  & -0.1329051   & -0.9952786   & -0.9831106   & -0.9135264   & -0.9951121   & -0.9831846   & -0.9235270   & -0.9347238   & ...          & -0.07432303  & -0.2986764   & -0.7103041   & -0.11275434  &  0.030400372 & -0.4647614   & -0.01844588  & -0.8412468   & 0.1799406    & -0.05862692 \\\\\n",
       "\t 0.2784188    & -0.01641057  & -0.1235202   & -0.9982453   & -0.9753002   & -0.9603220   & -0.9988072   & -0.9749144   & -0.9576862   & -0.9430675   & ...          &  0.15807454  & -0.5950509   & -0.8614993   &  0.05347695  & -0.007434566 & -0.7326262   &  0.70351059  & -0.8447876   & 0.1802889    & -0.05431672 \\\\\n",
       "\t 0.2796531    & -0.01946716  & -0.1134617   & -0.9953796   & -0.9671870   & -0.9789440   & -0.9965199   & -0.9636684   & -0.9774686   & -0.9386916   & ...          &  0.41450281  & -0.3907482   & -0.7601037   & -0.11855926  &  0.177899480 &  0.1006992   &  0.80852908  & -0.8489335   & 0.1806373    & -0.04911782 \\\\\n",
       "\t 0.2791739    & -0.02620065  & -0.1232826   & -0.9960915   & -0.9834027   & -0.9906751   & -0.9970995   & -0.9827498   & -0.9893025   & -0.9386916   & ...          &  0.40457253  & -0.1172902   & -0.4828445   & -0.03678797  & -0.012892494 &  0.6400110   & -0.48536645  & -0.8486494   & 0.1819348    & -0.04766318 \\\\\n",
       "\t 0.2766288    & -0.01656965  & -0.1153619   & -0.9981386   & -0.9808173   & -0.9904816   & -0.9983211   & -0.9796719   & -0.9904411   & -0.9424691   & ...          &  0.08775301  & -0.3514709   & -0.6992052   &  0.12332005  &  0.122541960 &  0.6935783   & -0.61597061  & -0.8478653   & 0.1851512    & -0.04389225 \\\\\n",
       "\t 0.2771988    & -0.01009785  & -0.1051373   & -0.9973350   & -0.9904868   & -0.9954200   & -0.9976274   & -0.9902177   & -0.9955489   & -0.9424691   & ...          &  0.01995331  & -0.5454101   & -0.8446193   &  0.08263215  & -0.143439010 &  0.2750408   & -0.36822404  & -0.8496316   & 0.1848225    & -0.04212638 \\\\\n",
       "\\end{tabular}\n"
      ],
      "text/markdown": [
       "\n",
       "tBodyAcc-mean()-X | tBodyAcc-mean()-Y | tBodyAcc-mean()-Z | tBodyAcc-std()-X | tBodyAcc-std()-Y | tBodyAcc-std()-Z | tBodyAcc-mad()-X | tBodyAcc-mad()-Y | tBodyAcc-mad()-Z | tBodyAcc-max()-X | ... | fBodyBodyGyroJerkMag-meanFreq() | fBodyBodyGyroJerkMag-skewness() | fBodyBodyGyroJerkMag-kurtosis() | angle(tBodyAccMean,gravity) | angle(tBodyAccJerkMean),gravityMean) | angle(tBodyGyroMean,gravityMean) | angle(tBodyGyroJerkMean,gravityMean) | angle(X,gravityMean) | angle(Y,gravityMean) | angle(Z,gravityMean) | \n",
       "|---|---|---|---|---|---|\n",
       "| 0.2885845    | -0.02029417  | -0.1329051   | -0.9952786   | -0.9831106   | -0.9135264   | -0.9951121   | -0.9831846   | -0.9235270   | -0.9347238   | ...          | -0.07432303  | -0.2986764   | -0.7103041   | -0.11275434  |  0.030400372 | -0.4647614   | -0.01844588  | -0.8412468   | 0.1799406    | -0.05862692  | \n",
       "| 0.2784188    | -0.01641057  | -0.1235202   | -0.9982453   | -0.9753002   | -0.9603220   | -0.9988072   | -0.9749144   | -0.9576862   | -0.9430675   | ...          |  0.15807454  | -0.5950509   | -0.8614993   |  0.05347695  | -0.007434566 | -0.7326262   |  0.70351059  | -0.8447876   | 0.1802889    | -0.05431672  | \n",
       "| 0.2796531    | -0.01946716  | -0.1134617   | -0.9953796   | -0.9671870   | -0.9789440   | -0.9965199   | -0.9636684   | -0.9774686   | -0.9386916   | ...          |  0.41450281  | -0.3907482   | -0.7601037   | -0.11855926  |  0.177899480 |  0.1006992   |  0.80852908  | -0.8489335   | 0.1806373    | -0.04911782  | \n",
       "| 0.2791739    | -0.02620065  | -0.1232826   | -0.9960915   | -0.9834027   | -0.9906751   | -0.9970995   | -0.9827498   | -0.9893025   | -0.9386916   | ...          |  0.40457253  | -0.1172902   | -0.4828445   | -0.03678797  | -0.012892494 |  0.6400110   | -0.48536645  | -0.8486494   | 0.1819348    | -0.04766318  | \n",
       "| 0.2766288    | -0.01656965  | -0.1153619   | -0.9981386   | -0.9808173   | -0.9904816   | -0.9983211   | -0.9796719   | -0.9904411   | -0.9424691   | ...          |  0.08775301  | -0.3514709   | -0.6992052   |  0.12332005  |  0.122541960 |  0.6935783   | -0.61597061  | -0.8478653   | 0.1851512    | -0.04389225  | \n",
       "| 0.2771988    | -0.01009785  | -0.1051373   | -0.9973350   | -0.9904868   | -0.9954200   | -0.9976274   | -0.9902177   | -0.9955489   | -0.9424691   | ...          |  0.01995331  | -0.5454101   | -0.8446193   |  0.08263215  | -0.143439010 |  0.2750408   | -0.36822404  | -0.8496316   | 0.1848225    | -0.04212638  | \n",
       "\n",
       "\n"
      ],
      "text/plain": [
       "  tBodyAcc-mean()-X tBodyAcc-mean()-Y tBodyAcc-mean()-Z tBodyAcc-std()-X\n",
       "1 0.2885845         -0.02029417       -0.1329051        -0.9952786      \n",
       "2 0.2784188         -0.01641057       -0.1235202        -0.9982453      \n",
       "3 0.2796531         -0.01946716       -0.1134617        -0.9953796      \n",
       "4 0.2791739         -0.02620065       -0.1232826        -0.9960915      \n",
       "5 0.2766288         -0.01656965       -0.1153619        -0.9981386      \n",
       "6 0.2771988         -0.01009785       -0.1051373        -0.9973350      \n",
       "  tBodyAcc-std()-Y tBodyAcc-std()-Z tBodyAcc-mad()-X tBodyAcc-mad()-Y\n",
       "1 -0.9831106       -0.9135264       -0.9951121       -0.9831846      \n",
       "2 -0.9753002       -0.9603220       -0.9988072       -0.9749144      \n",
       "3 -0.9671870       -0.9789440       -0.9965199       -0.9636684      \n",
       "4 -0.9834027       -0.9906751       -0.9970995       -0.9827498      \n",
       "5 -0.9808173       -0.9904816       -0.9983211       -0.9796719      \n",
       "6 -0.9904868       -0.9954200       -0.9976274       -0.9902177      \n",
       "  tBodyAcc-mad()-Z tBodyAcc-max()-X ... fBodyBodyGyroJerkMag-meanFreq()\n",
       "1 -0.9235270       -0.9347238       ... -0.07432303                    \n",
       "2 -0.9576862       -0.9430675       ...  0.15807454                    \n",
       "3 -0.9774686       -0.9386916       ...  0.41450281                    \n",
       "4 -0.9893025       -0.9386916       ...  0.40457253                    \n",
       "5 -0.9904411       -0.9424691       ...  0.08775301                    \n",
       "6 -0.9955489       -0.9424691       ...  0.01995331                    \n",
       "  fBodyBodyGyroJerkMag-skewness() fBodyBodyGyroJerkMag-kurtosis()\n",
       "1 -0.2986764                      -0.7103041                     \n",
       "2 -0.5950509                      -0.8614993                     \n",
       "3 -0.3907482                      -0.7601037                     \n",
       "4 -0.1172902                      -0.4828445                     \n",
       "5 -0.3514709                      -0.6992052                     \n",
       "6 -0.5454101                      -0.8446193                     \n",
       "  angle(tBodyAccMean,gravity) angle(tBodyAccJerkMean),gravityMean)\n",
       "1 -0.11275434                  0.030400372                        \n",
       "2  0.05347695                 -0.007434566                        \n",
       "3 -0.11855926                  0.177899480                        \n",
       "4 -0.03678797                 -0.012892494                        \n",
       "5  0.12332005                  0.122541960                        \n",
       "6  0.08263215                 -0.143439010                        \n",
       "  angle(tBodyGyroMean,gravityMean) angle(tBodyGyroJerkMean,gravityMean)\n",
       "1 -0.4647614                       -0.01844588                         \n",
       "2 -0.7326262                        0.70351059                         \n",
       "3  0.1006992                        0.80852908                         \n",
       "4  0.6400110                       -0.48536645                         \n",
       "5  0.6935783                       -0.61597061                         \n",
       "6  0.2750408                       -0.36822404                         \n",
       "  angle(X,gravityMean) angle(Y,gravityMean) angle(Z,gravityMean)\n",
       "1 -0.8412468           0.1799406            -0.05862692         \n",
       "2 -0.8447876           0.1802889            -0.05431672         \n",
       "3 -0.8489335           0.1806373            -0.04911782         \n",
       "4 -0.8486494           0.1819348            -0.04766318         \n",
       "5 -0.8478653           0.1851512            -0.04389225         \n",
       "6 -0.8496316           0.1848225            -0.04212638         "
      ]
     },
     "metadata": {},
     "output_type": "display_data"
    }
   ],
   "source": [
    "head(x_train)"
   ]
  },
  {
   "cell_type": "code",
   "execution_count": 265,
   "metadata": {},
   "outputs": [
    {
     "data": {
      "text/html": [
       "<table>\n",
       "<thead><tr><th scope=col>V1</th></tr></thead>\n",
       "<tbody>\n",
       "\t<tr><td>5</td></tr>\n",
       "\t<tr><td>5</td></tr>\n",
       "\t<tr><td>5</td></tr>\n",
       "\t<tr><td>5</td></tr>\n",
       "\t<tr><td>5</td></tr>\n",
       "\t<tr><td>5</td></tr>\n",
       "</tbody>\n",
       "</table>\n"
      ],
      "text/latex": [
       "\\begin{tabular}{r|l}\n",
       " V1\\\\\n",
       "\\hline\n",
       "\t 5\\\\\n",
       "\t 5\\\\\n",
       "\t 5\\\\\n",
       "\t 5\\\\\n",
       "\t 5\\\\\n",
       "\t 5\\\\\n",
       "\\end{tabular}\n"
      ],
      "text/markdown": [
       "\n",
       "V1 | \n",
       "|---|---|---|---|---|---|\n",
       "| 5 | \n",
       "| 5 | \n",
       "| 5 | \n",
       "| 5 | \n",
       "| 5 | \n",
       "| 5 | \n",
       "\n",
       "\n"
      ],
      "text/plain": [
       "  V1\n",
       "1 5 \n",
       "2 5 \n",
       "3 5 \n",
       "4 5 \n",
       "5 5 \n",
       "6 5 "
      ]
     },
     "metadata": {},
     "output_type": "display_data"
    }
   ],
   "source": [
    "# Reading trainings table labels\n",
    "y_train <- read.table(\"./data/UCI HAR Dataset/train/y_train.txt\")\n",
    "head(y_train)"
   ]
  },
  {
   "cell_type": "code",
   "execution_count": 266,
   "metadata": {},
   "outputs": [
    {
     "data": {
      "text/html": [
       "<ol class=list-inline>\n",
       "\t<li>7352</li>\n",
       "\t<li>1</li>\n",
       "</ol>\n"
      ],
      "text/latex": [
       "\\begin{enumerate*}\n",
       "\\item 7352\n",
       "\\item 1\n",
       "\\end{enumerate*}\n"
      ],
      "text/markdown": [
       "1. 7352\n",
       "2. 1\n",
       "\n",
       "\n"
      ],
      "text/plain": [
       "[1] 7352    1"
      ]
     },
     "metadata": {},
     "output_type": "display_data"
    }
   ],
   "source": [
    "dim(y_train)"
   ]
  },
  {
   "cell_type": "code",
   "execution_count": 275,
   "metadata": {
    "collapsed": true
   },
   "outputs": [],
   "source": [
    "#assign column name\n",
    "colnames(y_train) <-\"activityId\""
   ]
  },
  {
   "cell_type": "code",
   "execution_count": 268,
   "metadata": {},
   "outputs": [
    {
     "data": {
      "text/html": [
       "<table>\n",
       "<thead><tr><th scope=col>V1</th></tr></thead>\n",
       "<tbody>\n",
       "\t<tr><td>1</td></tr>\n",
       "\t<tr><td>1</td></tr>\n",
       "\t<tr><td>1</td></tr>\n",
       "\t<tr><td>1</td></tr>\n",
       "\t<tr><td>1</td></tr>\n",
       "\t<tr><td>1</td></tr>\n",
       "</tbody>\n",
       "</table>\n"
      ],
      "text/latex": [
       "\\begin{tabular}{r|l}\n",
       " V1\\\\\n",
       "\\hline\n",
       "\t 1\\\\\n",
       "\t 1\\\\\n",
       "\t 1\\\\\n",
       "\t 1\\\\\n",
       "\t 1\\\\\n",
       "\t 1\\\\\n",
       "\\end{tabular}\n"
      ],
      "text/markdown": [
       "\n",
       "V1 | \n",
       "|---|---|---|---|---|---|\n",
       "| 1 | \n",
       "| 1 | \n",
       "| 1 | \n",
       "| 1 | \n",
       "| 1 | \n",
       "| 1 | \n",
       "\n",
       "\n"
      ],
      "text/plain": [
       "  V1\n",
       "1 1 \n",
       "2 1 \n",
       "3 1 \n",
       "4 1 \n",
       "5 1 \n",
       "6 1 "
      ]
     },
     "metadata": {},
     "output_type": "display_data"
    }
   ],
   "source": [
    "subject_train <- read.table(\"./data/UCI HAR Dataset/train/subject_train.txt\")\n",
    "head(subject_train)"
   ]
  },
  {
   "cell_type": "code",
   "execution_count": 269,
   "metadata": {},
   "outputs": [
    {
     "data": {
      "text/html": [
       "<ol class=list-inline>\n",
       "\t<li>7352</li>\n",
       "\t<li>1</li>\n",
       "</ol>\n"
      ],
      "text/latex": [
       "\\begin{enumerate*}\n",
       "\\item 7352\n",
       "\\item 1\n",
       "\\end{enumerate*}\n"
      ],
      "text/markdown": [
       "1. 7352\n",
       "2. 1\n",
       "\n",
       "\n"
      ],
      "text/plain": [
       "[1] 7352    1"
      ]
     },
     "metadata": {},
     "output_type": "display_data"
    }
   ],
   "source": [
    "dim(subject_train)"
   ]
  },
  {
   "cell_type": "code",
   "execution_count": 276,
   "metadata": {
    "collapsed": true
   },
   "outputs": [],
   "source": [
    "colnames(subject_train) <- \"subjectId\""
   ]
  },
  {
   "cell_type": "code",
   "execution_count": 277,
   "metadata": {},
   "outputs": [],
   "source": [
    "# Reading testing tables:\n",
    "x_test <- read.table(\"./data/UCI HAR Dataset/test/X_test.txt\")\n",
    "colnames(x_test) <- features[,2] \n",
    "\n",
    "\n",
    "\n",
    "y_test <- read.table(\"./data/UCI HAR Dataset/test/y_test.txt\")\n",
    "colnames(y_test) <- \"activityId\"\n",
    "\n",
    "\n",
    "subject_test <- read.table(\"./data/UCI HAR Dataset/test/subject_test.txt\")\n",
    "colnames(subject_test) <- \"subjectId\""
   ]
  },
  {
   "cell_type": "code",
   "execution_count": 271,
   "metadata": {},
   "outputs": [
    {
     "data": {
      "text/html": [
       "<ol class=list-inline>\n",
       "\t<li>2947</li>\n",
       "\t<li>561</li>\n",
       "</ol>\n"
      ],
      "text/latex": [
       "\\begin{enumerate*}\n",
       "\\item 2947\n",
       "\\item 561\n",
       "\\end{enumerate*}\n"
      ],
      "text/markdown": [
       "1. 2947\n",
       "2. 561\n",
       "\n",
       "\n"
      ],
      "text/plain": [
       "[1] 2947  561"
      ]
     },
     "metadata": {},
     "output_type": "display_data"
    }
   ],
   "source": [
    "dim(x_test)"
   ]
  },
  {
   "cell_type": "code",
   "execution_count": 272,
   "metadata": {},
   "outputs": [
    {
     "data": {
      "text/html": [
       "<ol class=list-inline>\n",
       "\t<li>2947</li>\n",
       "\t<li>1</li>\n",
       "</ol>\n"
      ],
      "text/latex": [
       "\\begin{enumerate*}\n",
       "\\item 2947\n",
       "\\item 1\n",
       "\\end{enumerate*}\n"
      ],
      "text/markdown": [
       "1. 2947\n",
       "2. 1\n",
       "\n",
       "\n"
      ],
      "text/plain": [
       "[1] 2947    1"
      ]
     },
     "metadata": {},
     "output_type": "display_data"
    }
   ],
   "source": [
    "dim(y_test)"
   ]
  },
  {
   "cell_type": "markdown",
   "metadata": {},
   "source": [
    "# 1. Merge the training and the test sets to create one data set."
   ]
  },
  {
   "cell_type": "code",
   "execution_count": 278,
   "metadata": {},
   "outputs": [],
   "source": [
    "# Merging all data in one set:\n",
    "train <- cbind(subject_train, x_train, y_train)\n",
    "test <- cbind(subject_test, x_test, y_test)\n",
    "all_data <- rbind(train, test)"
   ]
  },
  {
   "cell_type": "code",
   "execution_count": 279,
   "metadata": {},
   "outputs": [
    {
     "data": {
      "text/html": [
       "<ol class=list-inline>\n",
       "\t<li>7352</li>\n",
       "\t<li>563</li>\n",
       "</ol>\n"
      ],
      "text/latex": [
       "\\begin{enumerate*}\n",
       "\\item 7352\n",
       "\\item 563\n",
       "\\end{enumerate*}\n"
      ],
      "text/markdown": [
       "1. 7352\n",
       "2. 563\n",
       "\n",
       "\n"
      ],
      "text/plain": [
       "[1] 7352  563"
      ]
     },
     "metadata": {},
     "output_type": "display_data"
    }
   ],
   "source": [
    "dim(train)"
   ]
  },
  {
   "cell_type": "code",
   "execution_count": 60,
   "metadata": {},
   "outputs": [
    {
     "data": {
      "text/html": [
       "<ol class=list-inline>\n",
       "\t<li>2947</li>\n",
       "\t<li>563</li>\n",
       "</ol>\n"
      ],
      "text/latex": [
       "\\begin{enumerate*}\n",
       "\\item 2947\n",
       "\\item 563\n",
       "\\end{enumerate*}\n"
      ],
      "text/markdown": [
       "1. 2947\n",
       "2. 563\n",
       "\n",
       "\n"
      ],
      "text/plain": [
       "[1] 2947  563"
      ]
     },
     "metadata": {},
     "output_type": "display_data"
    }
   ],
   "source": [
    "dim(test)"
   ]
  },
  {
   "cell_type": "code",
   "execution_count": 280,
   "metadata": {},
   "outputs": [
    {
     "data": {
      "text/html": [
       "<ol class=list-inline>\n",
       "\t<li>10299</li>\n",
       "\t<li>563</li>\n",
       "</ol>\n"
      ],
      "text/latex": [
       "\\begin{enumerate*}\n",
       "\\item 10299\n",
       "\\item 563\n",
       "\\end{enumerate*}\n"
      ],
      "text/markdown": [
       "1. 10299\n",
       "2. 563\n",
       "\n",
       "\n"
      ],
      "text/plain": [
       "[1] 10299   563"
      ]
     },
     "metadata": {},
     "output_type": "display_data"
    }
   ],
   "source": [
    "dim(all_data)"
   ]
  },
  {
   "cell_type": "markdown",
   "metadata": {},
   "source": [
    "# 2. Extract only the measurements on the mean and standard deviation for each measurement."
   ]
  },
  {
   "cell_type": "code",
   "execution_count": 281,
   "metadata": {},
   "outputs": [],
   "source": [
    "data <- all_data[, grepl(\"subjectId|activityId|mean|std\",names(all_data)) == TRUE]"
   ]
  },
  {
   "cell_type": "code",
   "execution_count": 282,
   "metadata": {},
   "outputs": [
    {
     "data": {
      "text/html": [
       "<ol class=list-inline>\n",
       "\t<li>10299</li>\n",
       "\t<li>81</li>\n",
       "</ol>\n"
      ],
      "text/latex": [
       "\\begin{enumerate*}\n",
       "\\item 10299\n",
       "\\item 81\n",
       "\\end{enumerate*}\n"
      ],
      "text/markdown": [
       "1. 10299\n",
       "2. 81\n",
       "\n",
       "\n"
      ],
      "text/plain": [
       "[1] 10299    81"
      ]
     },
     "metadata": {},
     "output_type": "display_data"
    }
   ],
   "source": [
    "dim(data)"
   ]
  },
  {
   "cell_type": "code",
   "execution_count": 283,
   "metadata": {},
   "outputs": [
    {
     "data": {
      "text/html": [
       "<table>\n",
       "<thead><tr><th scope=col>subjectId</th><th scope=col>tBodyAcc-mean()-X</th><th scope=col>tBodyAcc-mean()-Y</th><th scope=col>tBodyAcc-mean()-Z</th><th scope=col>tBodyAcc-std()-X</th><th scope=col>tBodyAcc-std()-Y</th><th scope=col>tBodyAcc-std()-Z</th><th scope=col>tGravityAcc-mean()-X</th><th scope=col>tGravityAcc-mean()-Y</th><th scope=col>tGravityAcc-mean()-Z</th><th scope=col>...</th><th scope=col>fBodyBodyAccJerkMag-mean()</th><th scope=col>fBodyBodyAccJerkMag-std()</th><th scope=col>fBodyBodyAccJerkMag-meanFreq()</th><th scope=col>fBodyBodyGyroMag-mean()</th><th scope=col>fBodyBodyGyroMag-std()</th><th scope=col>fBodyBodyGyroMag-meanFreq()</th><th scope=col>fBodyBodyGyroJerkMag-mean()</th><th scope=col>fBodyBodyGyroJerkMag-std()</th><th scope=col>fBodyBodyGyroJerkMag-meanFreq()</th><th scope=col>activityId</th></tr></thead>\n",
       "<tbody>\n",
       "\t<tr><td>1          </td><td>0.2885845  </td><td>-0.02029417</td><td>-0.1329051 </td><td>-0.9952786 </td><td>-0.9831106 </td><td>-0.9135264 </td><td>0.9633961  </td><td>-0.1408397 </td><td>0.1153749  </td><td>...        </td><td>-0.9937257 </td><td>-0.9937550 </td><td>0.3469885  </td><td>-0.9801349 </td><td>-0.9613094 </td><td>-0.1289889 </td><td>-0.9919904 </td><td>-0.9906975 </td><td>-0.07432303</td><td>5          </td></tr>\n",
       "\t<tr><td>1          </td><td>0.2784188  </td><td>-0.01641057</td><td>-0.1235202 </td><td>-0.9982453 </td><td>-0.9753002 </td><td>-0.9603220 </td><td>0.9665611  </td><td>-0.1415513 </td><td>0.1093788  </td><td>...        </td><td>-0.9903355 </td><td>-0.9919603 </td><td>0.5320605  </td><td>-0.9882956 </td><td>-0.9833219 </td><td>-0.2719585 </td><td>-0.9958539 </td><td>-0.9963995 </td><td> 0.15807454</td><td>5          </td></tr>\n",
       "\t<tr><td>1          </td><td>0.2796531  </td><td>-0.01946716</td><td>-0.1134617 </td><td>-0.9953796 </td><td>-0.9671870 </td><td>-0.9789440 </td><td>0.9668781  </td><td>-0.1420098 </td><td>0.1018839  </td><td>...        </td><td>-0.9892801 </td><td>-0.9908667 </td><td>0.6607950  </td><td>-0.9892548 </td><td>-0.9860277 </td><td>-0.2127279 </td><td>-0.9950305 </td><td>-0.9951274 </td><td> 0.41450281</td><td>5          </td></tr>\n",
       "</tbody>\n",
       "</table>\n"
      ],
      "text/latex": [
       "\\begin{tabular}{r|lllllllllllllllllllllllllllllllllllllllllllllllllllllllllllllllllllllllllllllllll}\n",
       " subjectId & tBodyAcc-mean()-X & tBodyAcc-mean()-Y & tBodyAcc-mean()-Z & tBodyAcc-std()-X & tBodyAcc-std()-Y & tBodyAcc-std()-Z & tGravityAcc-mean()-X & tGravityAcc-mean()-Y & tGravityAcc-mean()-Z & ... & fBodyBodyAccJerkMag-mean() & fBodyBodyAccJerkMag-std() & fBodyBodyAccJerkMag-meanFreq() & fBodyBodyGyroMag-mean() & fBodyBodyGyroMag-std() & fBodyBodyGyroMag-meanFreq() & fBodyBodyGyroJerkMag-mean() & fBodyBodyGyroJerkMag-std() & fBodyBodyGyroJerkMag-meanFreq() & activityId\\\\\n",
       "\\hline\n",
       "\t 1           & 0.2885845   & -0.02029417 & -0.1329051  & -0.9952786  & -0.9831106  & -0.9135264  & 0.9633961   & -0.1408397  & 0.1153749   & ...         & -0.9937257  & -0.9937550  & 0.3469885   & -0.9801349  & -0.9613094  & -0.1289889  & -0.9919904  & -0.9906975  & -0.07432303 & 5          \\\\\n",
       "\t 1           & 0.2784188   & -0.01641057 & -0.1235202  & -0.9982453  & -0.9753002  & -0.9603220  & 0.9665611   & -0.1415513  & 0.1093788   & ...         & -0.9903355  & -0.9919603  & 0.5320605   & -0.9882956  & -0.9833219  & -0.2719585  & -0.9958539  & -0.9963995  &  0.15807454 & 5          \\\\\n",
       "\t 1           & 0.2796531   & -0.01946716 & -0.1134617  & -0.9953796  & -0.9671870  & -0.9789440  & 0.9668781   & -0.1420098  & 0.1018839   & ...         & -0.9892801  & -0.9908667  & 0.6607950   & -0.9892548  & -0.9860277  & -0.2127279  & -0.9950305  & -0.9951274  &  0.41450281 & 5          \\\\\n",
       "\\end{tabular}\n"
      ],
      "text/markdown": [
       "\n",
       "subjectId | tBodyAcc-mean()-X | tBodyAcc-mean()-Y | tBodyAcc-mean()-Z | tBodyAcc-std()-X | tBodyAcc-std()-Y | tBodyAcc-std()-Z | tGravityAcc-mean()-X | tGravityAcc-mean()-Y | tGravityAcc-mean()-Z | ... | fBodyBodyAccJerkMag-mean() | fBodyBodyAccJerkMag-std() | fBodyBodyAccJerkMag-meanFreq() | fBodyBodyGyroMag-mean() | fBodyBodyGyroMag-std() | fBodyBodyGyroMag-meanFreq() | fBodyBodyGyroJerkMag-mean() | fBodyBodyGyroJerkMag-std() | fBodyBodyGyroJerkMag-meanFreq() | activityId | \n",
       "|---|---|---|\n",
       "| 1           | 0.2885845   | -0.02029417 | -0.1329051  | -0.9952786  | -0.9831106  | -0.9135264  | 0.9633961   | -0.1408397  | 0.1153749   | ...         | -0.9937257  | -0.9937550  | 0.3469885   | -0.9801349  | -0.9613094  | -0.1289889  | -0.9919904  | -0.9906975  | -0.07432303 | 5           | \n",
       "| 1           | 0.2784188   | -0.01641057 | -0.1235202  | -0.9982453  | -0.9753002  | -0.9603220  | 0.9665611   | -0.1415513  | 0.1093788   | ...         | -0.9903355  | -0.9919603  | 0.5320605   | -0.9882956  | -0.9833219  | -0.2719585  | -0.9958539  | -0.9963995  |  0.15807454 | 5           | \n",
       "| 1           | 0.2796531   | -0.01946716 | -0.1134617  | -0.9953796  | -0.9671870  | -0.9789440  | 0.9668781   | -0.1420098  | 0.1018839   | ...         | -0.9892801  | -0.9908667  | 0.6607950   | -0.9892548  | -0.9860277  | -0.2127279  | -0.9950305  | -0.9951274  |  0.41450281 | 5           | \n",
       "\n",
       "\n"
      ],
      "text/plain": [
       "  subjectId tBodyAcc-mean()-X tBodyAcc-mean()-Y tBodyAcc-mean()-Z\n",
       "1 1         0.2885845         -0.02029417       -0.1329051       \n",
       "2 1         0.2784188         -0.01641057       -0.1235202       \n",
       "3 1         0.2796531         -0.01946716       -0.1134617       \n",
       "  tBodyAcc-std()-X tBodyAcc-std()-Y tBodyAcc-std()-Z tGravityAcc-mean()-X\n",
       "1 -0.9952786       -0.9831106       -0.9135264       0.9633961           \n",
       "2 -0.9982453       -0.9753002       -0.9603220       0.9665611           \n",
       "3 -0.9953796       -0.9671870       -0.9789440       0.9668781           \n",
       "  tGravityAcc-mean()-Y tGravityAcc-mean()-Z ... fBodyBodyAccJerkMag-mean()\n",
       "1 -0.1408397           0.1153749            ... -0.9937257                \n",
       "2 -0.1415513           0.1093788            ... -0.9903355                \n",
       "3 -0.1420098           0.1018839            ... -0.9892801                \n",
       "  fBodyBodyAccJerkMag-std() fBodyBodyAccJerkMag-meanFreq()\n",
       "1 -0.9937550                0.3469885                     \n",
       "2 -0.9919603                0.5320605                     \n",
       "3 -0.9908667                0.6607950                     \n",
       "  fBodyBodyGyroMag-mean() fBodyBodyGyroMag-std() fBodyBodyGyroMag-meanFreq()\n",
       "1 -0.9801349              -0.9613094             -0.1289889                 \n",
       "2 -0.9882956              -0.9833219             -0.2719585                 \n",
       "3 -0.9892548              -0.9860277             -0.2127279                 \n",
       "  fBodyBodyGyroJerkMag-mean() fBodyBodyGyroJerkMag-std()\n",
       "1 -0.9919904                  -0.9906975                \n",
       "2 -0.9958539                  -0.9963995                \n",
       "3 -0.9950305                  -0.9951274                \n",
       "  fBodyBodyGyroJerkMag-meanFreq() activityId\n",
       "1 -0.07432303                     5         \n",
       "2  0.15807454                     5         \n",
       "3  0.41450281                     5         "
      ]
     },
     "metadata": {},
     "output_type": "display_data"
    }
   ],
   "source": [
    "head(data,3)"
   ]
  },
  {
   "cell_type": "markdown",
   "metadata": {},
   "source": [
    "# 3. Use descriptive activity names to name the activities in the data set"
   ]
  },
  {
   "cell_type": "code",
   "execution_count": 284,
   "metadata": {
    "collapsed": true
   },
   "outputs": [],
   "source": [
    "data_with_activity_names <- merge(data, activity, by= \"activityId\" )"
   ]
  },
  {
   "cell_type": "code",
   "execution_count": null,
   "metadata": {
    "collapsed": true
   },
   "outputs": [],
   "source": [
    "library(dplyr)"
   ]
  },
  {
   "cell_type": "code",
   "execution_count": 285,
   "metadata": {},
   "outputs": [
    {
     "data": {
      "text/html": [
       "<table>\n",
       "<thead><tr><th></th><th scope=col>activityId</th><th scope=col>subjectId</th><th scope=col>tBodyAcc-mean()-X</th><th scope=col>tBodyAcc-mean()-Y</th><th scope=col>tBodyAcc-mean()-Z</th><th scope=col>tBodyAcc-std()-X</th><th scope=col>tBodyAcc-std()-Y</th><th scope=col>tBodyAcc-std()-Z</th><th scope=col>tGravityAcc-mean()-X</th><th scope=col>tGravityAcc-mean()-Y</th><th scope=col>...</th><th scope=col>fBodyBodyAccJerkMag-mean()</th><th scope=col>fBodyBodyAccJerkMag-std()</th><th scope=col>fBodyBodyAccJerkMag-meanFreq()</th><th scope=col>fBodyBodyGyroMag-mean()</th><th scope=col>fBodyBodyGyroMag-std()</th><th scope=col>fBodyBodyGyroMag-meanFreq()</th><th scope=col>fBodyBodyGyroJerkMag-mean()</th><th scope=col>fBodyBodyGyroJerkMag-std()</th><th scope=col>fBodyBodyGyroJerkMag-meanFreq()</th><th scope=col>activityName</th></tr></thead>\n",
       "<tbody>\n",
       "\t<tr><th scope=row>5866</th><td>4          </td><td>17         </td><td>0.2701672  </td><td> 0.07819987</td><td>-0.08062010</td><td>-0.9758589 </td><td>-0.6266008 </td><td>-0.7608964 </td><td> 0.9669153 </td><td> 0.03773327</td><td>...        </td><td>-0.9629899 </td><td>-0.9435510 </td><td>-0.40673744</td><td>-0.9539754 </td><td>-0.9449385 </td><td>-0.11805302</td><td>-0.9709674 </td><td>-0.9561859 </td><td>-0.16700130</td><td>SITTING    </td></tr>\n",
       "\t<tr><th scope=row>6279</th><td>4          </td><td> 8         </td><td>0.2784198  </td><td>-0.01319102</td><td>-0.10548285</td><td>-0.9955357 </td><td>-0.9911841 </td><td>-0.9619295 </td><td> 0.9547596 </td><td> 0.09436746</td><td>...        </td><td>-0.9920353 </td><td>-0.9908977 </td><td>-0.02685447</td><td>-0.9906578 </td><td>-0.9882680 </td><td>-0.11718233</td><td>-0.9969578 </td><td>-0.9963469 </td><td>-0.04028814</td><td>SITTING    </td></tr>\n",
       "\t<tr><th scope=row>4844</th><td>4          </td><td>21         </td><td>0.2801729  </td><td>-0.01732449</td><td>-0.09787033</td><td>-0.9952025 </td><td>-0.9858775 </td><td>-0.9749867 </td><td> 0.9324130 </td><td>-0.03552832</td><td>...        </td><td>-0.9898029 </td><td>-0.9921077 </td><td> 0.31948182</td><td>-0.9857290 </td><td>-0.9865443 </td><td> 0.01601987</td><td>-0.9897413 </td><td>-0.9918409 </td><td> 0.28715197</td><td>SITTING    </td></tr>\n",
       "\t<tr><th scope=row>7134</th><td>5          </td><td> 8         </td><td>0.2800803  </td><td>-0.01552098</td><td>-0.09792507</td><td>-0.9905745 </td><td>-0.9607216 </td><td>-0.9681049 </td><td> 0.9231965 </td><td>-0.11312337</td><td>...        </td><td>-0.9845093 </td><td>-0.9899559 </td><td> 0.51593476</td><td>-0.9730277 </td><td>-0.9602593 </td><td>-0.47945993</td><td>-0.9893775 </td><td>-0.9886266 </td><td>-0.08299415</td><td>STANDING   </td></tr>\n",
       "\t<tr><th scope=row>8684</th><td>6          </td><td>30         </td><td>0.2937601  </td><td>-0.01885826</td><td>-0.10716897</td><td>-0.9848125 </td><td>-0.9746124 </td><td>-0.9841468 </td><td>-0.2367388 </td><td> 0.73276030</td><td>...        </td><td>-0.9871077 </td><td>-0.9851371 </td><td> 0.09885572</td><td>-0.9765237 </td><td>-0.9706159 </td><td>-0.24126031</td><td>-0.9878466 </td><td>-0.9857425 </td><td>-0.43500528</td><td>LAYING     </td></tr>\n",
       "</tbody>\n",
       "</table>\n"
      ],
      "text/latex": [
       "\\begin{tabular}{r|llllllllllllllllllllllllllllllllllllllllllllllllllllllllllllllllllllllllllllllllll}\n",
       "  & activityId & subjectId & tBodyAcc-mean()-X & tBodyAcc-mean()-Y & tBodyAcc-mean()-Z & tBodyAcc-std()-X & tBodyAcc-std()-Y & tBodyAcc-std()-Z & tGravityAcc-mean()-X & tGravityAcc-mean()-Y & ... & fBodyBodyAccJerkMag-mean() & fBodyBodyAccJerkMag-std() & fBodyBodyAccJerkMag-meanFreq() & fBodyBodyGyroMag-mean() & fBodyBodyGyroMag-std() & fBodyBodyGyroMag-meanFreq() & fBodyBodyGyroJerkMag-mean() & fBodyBodyGyroJerkMag-std() & fBodyBodyGyroJerkMag-meanFreq() & activityName\\\\\n",
       "\\hline\n",
       "\t5866 & 4           & 17          & 0.2701672   &  0.07819987 & -0.08062010 & -0.9758589  & -0.6266008  & -0.7608964  &  0.9669153  &  0.03773327 & ...         & -0.9629899  & -0.9435510  & -0.40673744 & -0.9539754  & -0.9449385  & -0.11805302 & -0.9709674  & -0.9561859  & -0.16700130 & SITTING    \\\\\n",
       "\t6279 & 4           &  8          & 0.2784198   & -0.01319102 & -0.10548285 & -0.9955357  & -0.9911841  & -0.9619295  &  0.9547596  &  0.09436746 & ...         & -0.9920353  & -0.9908977  & -0.02685447 & -0.9906578  & -0.9882680  & -0.11718233 & -0.9969578  & -0.9963469  & -0.04028814 & SITTING    \\\\\n",
       "\t4844 & 4           & 21          & 0.2801729   & -0.01732449 & -0.09787033 & -0.9952025  & -0.9858775  & -0.9749867  &  0.9324130  & -0.03552832 & ...         & -0.9898029  & -0.9921077  &  0.31948182 & -0.9857290  & -0.9865443  &  0.01601987 & -0.9897413  & -0.9918409  &  0.28715197 & SITTING    \\\\\n",
       "\t7134 & 5           &  8          & 0.2800803   & -0.01552098 & -0.09792507 & -0.9905745  & -0.9607216  & -0.9681049  &  0.9231965  & -0.11312337 & ...         & -0.9845093  & -0.9899559  &  0.51593476 & -0.9730277  & -0.9602593  & -0.47945993 & -0.9893775  & -0.9886266  & -0.08299415 & STANDING   \\\\\n",
       "\t8684 & 6           & 30          & 0.2937601   & -0.01885826 & -0.10716897 & -0.9848125  & -0.9746124  & -0.9841468  & -0.2367388  &  0.73276030 & ...         & -0.9871077  & -0.9851371  &  0.09885572 & -0.9765237  & -0.9706159  & -0.24126031 & -0.9878466  & -0.9857425  & -0.43500528 & LAYING     \\\\\n",
       "\\end{tabular}\n"
      ],
      "text/markdown": [
       "\n",
       "| <!--/--> | activityId | subjectId | tBodyAcc-mean()-X | tBodyAcc-mean()-Y | tBodyAcc-mean()-Z | tBodyAcc-std()-X | tBodyAcc-std()-Y | tBodyAcc-std()-Z | tGravityAcc-mean()-X | tGravityAcc-mean()-Y | ... | fBodyBodyAccJerkMag-mean() | fBodyBodyAccJerkMag-std() | fBodyBodyAccJerkMag-meanFreq() | fBodyBodyGyroMag-mean() | fBodyBodyGyroMag-std() | fBodyBodyGyroMag-meanFreq() | fBodyBodyGyroJerkMag-mean() | fBodyBodyGyroJerkMag-std() | fBodyBodyGyroJerkMag-meanFreq() | activityName | \n",
       "|---|---|---|---|---|\n",
       "| 5866 | 4           | 17          | 0.2701672   |  0.07819987 | -0.08062010 | -0.9758589  | -0.6266008  | -0.7608964  |  0.9669153  |  0.03773327 | ...         | -0.9629899  | -0.9435510  | -0.40673744 | -0.9539754  | -0.9449385  | -0.11805302 | -0.9709674  | -0.9561859  | -0.16700130 | SITTING     | \n",
       "| 6279 | 4           |  8          | 0.2784198   | -0.01319102 | -0.10548285 | -0.9955357  | -0.9911841  | -0.9619295  |  0.9547596  |  0.09436746 | ...         | -0.9920353  | -0.9908977  | -0.02685447 | -0.9906578  | -0.9882680  | -0.11718233 | -0.9969578  | -0.9963469  | -0.04028814 | SITTING     | \n",
       "| 4844 | 4           | 21          | 0.2801729   | -0.01732449 | -0.09787033 | -0.9952025  | -0.9858775  | -0.9749867  |  0.9324130  | -0.03552832 | ...         | -0.9898029  | -0.9921077  |  0.31948182 | -0.9857290  | -0.9865443  |  0.01601987 | -0.9897413  | -0.9918409  |  0.28715197 | SITTING     | \n",
       "| 7134 | 5           |  8          | 0.2800803   | -0.01552098 | -0.09792507 | -0.9905745  | -0.9607216  | -0.9681049  |  0.9231965  | -0.11312337 | ...         | -0.9845093  | -0.9899559  |  0.51593476 | -0.9730277  | -0.9602593  | -0.47945993 | -0.9893775  | -0.9886266  | -0.08299415 | STANDING    | \n",
       "| 8684 | 6           | 30          | 0.2937601   | -0.01885826 | -0.10716897 | -0.9848125  | -0.9746124  | -0.9841468  | -0.2367388  |  0.73276030 | ...         | -0.9871077  | -0.9851371  |  0.09885572 | -0.9765237  | -0.9706159  | -0.24126031 | -0.9878466  | -0.9857425  | -0.43500528 | LAYING      | \n",
       "\n",
       "\n"
      ],
      "text/plain": [
       "     activityId subjectId tBodyAcc-mean()-X tBodyAcc-mean()-Y tBodyAcc-mean()-Z\n",
       "5866 4          17        0.2701672          0.07819987       -0.08062010      \n",
       "6279 4           8        0.2784198         -0.01319102       -0.10548285      \n",
       "4844 4          21        0.2801729         -0.01732449       -0.09787033      \n",
       "7134 5           8        0.2800803         -0.01552098       -0.09792507      \n",
       "8684 6          30        0.2937601         -0.01885826       -0.10716897      \n",
       "     tBodyAcc-std()-X tBodyAcc-std()-Y tBodyAcc-std()-Z tGravityAcc-mean()-X\n",
       "5866 -0.9758589       -0.6266008       -0.7608964        0.9669153          \n",
       "6279 -0.9955357       -0.9911841       -0.9619295        0.9547596          \n",
       "4844 -0.9952025       -0.9858775       -0.9749867        0.9324130          \n",
       "7134 -0.9905745       -0.9607216       -0.9681049        0.9231965          \n",
       "8684 -0.9848125       -0.9746124       -0.9841468       -0.2367388          \n",
       "     tGravityAcc-mean()-Y ... fBodyBodyAccJerkMag-mean()\n",
       "5866  0.03773327          ... -0.9629899                \n",
       "6279  0.09436746          ... -0.9920353                \n",
       "4844 -0.03552832          ... -0.9898029                \n",
       "7134 -0.11312337          ... -0.9845093                \n",
       "8684  0.73276030          ... -0.9871077                \n",
       "     fBodyBodyAccJerkMag-std() fBodyBodyAccJerkMag-meanFreq()\n",
       "5866 -0.9435510                -0.40673744                   \n",
       "6279 -0.9908977                -0.02685447                   \n",
       "4844 -0.9921077                 0.31948182                   \n",
       "7134 -0.9899559                 0.51593476                   \n",
       "8684 -0.9851371                 0.09885572                   \n",
       "     fBodyBodyGyroMag-mean() fBodyBodyGyroMag-std() fBodyBodyGyroMag-meanFreq()\n",
       "5866 -0.9539754              -0.9449385             -0.11805302                \n",
       "6279 -0.9906578              -0.9882680             -0.11718233                \n",
       "4844 -0.9857290              -0.9865443              0.01601987                \n",
       "7134 -0.9730277              -0.9602593             -0.47945993                \n",
       "8684 -0.9765237              -0.9706159             -0.24126031                \n",
       "     fBodyBodyGyroJerkMag-mean() fBodyBodyGyroJerkMag-std()\n",
       "5866 -0.9709674                  -0.9561859                \n",
       "6279 -0.9969578                  -0.9963469                \n",
       "4844 -0.9897413                  -0.9918409                \n",
       "7134 -0.9893775                  -0.9886266                \n",
       "8684 -0.9878466                  -0.9857425                \n",
       "     fBodyBodyGyroJerkMag-meanFreq() activityName\n",
       "5866 -0.16700130                     SITTING     \n",
       "6279 -0.04028814                     SITTING     \n",
       "4844  0.28715197                     SITTING     \n",
       "7134 -0.08299415                     STANDING    \n",
       "8684 -0.43500528                     LAYING      "
      ]
     },
     "metadata": {},
     "output_type": "display_data"
    }
   ],
   "source": [
    "# sample few rows from dataframe (sample_n using dplyr) and check the column activityName to ensure values are populated\n",
    "sample_n(data_with_activity_names, 5)"
   ]
  },
  {
   "cell_type": "markdown",
   "metadata": {},
   "source": [
    "# 4. Appropriately labels the data set with descriptive variable names."
   ]
  },
  {
   "cell_type": "code",
   "execution_count": 286,
   "metadata": {
    "collapsed": true
   },
   "outputs": [],
   "source": [
    "names(data_with_activity_names) <- gsub(\"\\\\()\", \"\", names(data_with_activity_names) )\n",
    "names(data_with_activity_names) <- gsub(\"mean\", \"Mean\", names(data_with_activity_names) )\n",
    "names(data_with_activity_names) <- gsub(\"std\", \"Std\", names(data_with_activity_names) )\n",
    "names(data_with_activity_names) <- gsub(\"BodyBody\", \"Body\", names(data_with_activity_names))\n",
    "names(data_with_activity_names) <- gsub(\"^t\", \"Time\", names(data_with_activity_names))\n",
    "names(data_with_activity_names) <- gsub(\"^f\", \"Frequency\", names(data_with_activity_names))"
   ]
  },
  {
   "cell_type": "code",
   "execution_count": 287,
   "metadata": {},
   "outputs": [
    {
     "data": {
      "text/html": [
       "<table>\n",
       "<thead><tr><th></th><th scope=col>activityId</th><th scope=col>subjectId</th><th scope=col>TimeBodyAcc-Mean-X</th><th scope=col>TimeBodyAcc-Mean-Y</th><th scope=col>TimeBodyAcc-Mean-Z</th><th scope=col>TimeBodyAcc-Std-X</th><th scope=col>TimeBodyAcc-Std-Y</th><th scope=col>TimeBodyAcc-Std-Z</th><th scope=col>TimeGravityAcc-Mean-X</th><th scope=col>TimeGravityAcc-Mean-Y</th><th scope=col>...</th><th scope=col>FrequencyBodyAccJerkMag-Mean</th><th scope=col>FrequencyBodyAccJerkMag-Std</th><th scope=col>FrequencyBodyAccJerkMag-MeanFreq</th><th scope=col>FrequencyBodyGyroMag-Mean</th><th scope=col>FrequencyBodyGyroMag-Std</th><th scope=col>FrequencyBodyGyroMag-MeanFreq</th><th scope=col>FrequencyBodyGyroJerkMag-Mean</th><th scope=col>FrequencyBodyGyroJerkMag-Std</th><th scope=col>FrequencyBodyGyroJerkMag-MeanFreq</th><th scope=col>activityName</th></tr></thead>\n",
       "<tbody>\n",
       "\t<tr><th scope=row>2375</th><td>2               </td><td>13              </td><td>0.2692011       </td><td> 0.007698895    </td><td>-0.11556435     </td><td>-0.2577623      </td><td>-0.06463850     </td><td>-0.01944747     </td><td>0.7915239       </td><td>-0.3395834      </td><td>...             </td><td>-0.4780776      </td><td>-0.4450419      </td><td>-0.2794398      </td><td>-0.4443509      </td><td>-0.5179933      </td><td>-0.01905509     </td><td>-0.5871941      </td><td>-0.6257509      </td><td> 0.15086061     </td><td>WALKING_UPSTAIRS</td></tr>\n",
       "\t<tr><th scope=row>3217</th><td>2               </td><td>28              </td><td>0.1781650       </td><td>-0.004595888    </td><td>-0.10992796     </td><td>-0.2239736      </td><td>-0.08002467     </td><td>-0.35928827     </td><td>0.8350246       </td><td>-0.3458948      </td><td>...             </td><td>-0.3818768      </td><td>-0.5062423      </td><td> 0.1806105      </td><td>-0.5021972      </td><td>-0.5739226      </td><td> 0.12261470     </td><td>-0.6346021      </td><td>-0.7017024      </td><td> 0.35258726     </td><td>WALKING_UPSTAIRS</td></tr>\n",
       "\t<tr><th scope=row>5924</th><td>4               </td><td>23              </td><td>0.2778493       </td><td>-0.018109759    </td><td>-0.11136876     </td><td>-0.9989252      </td><td>-0.99337009     </td><td>-0.99080907     </td><td>0.9152003       </td><td> 0.1920065      </td><td>...             </td><td>-0.9929539      </td><td>-0.9935082      </td><td> 0.5765395      </td><td>-0.9974161      </td><td>-0.9983727      </td><td> 0.66753629     </td><td>-0.9971067      </td><td>-0.9954582      </td><td> 0.04060354     </td><td>SITTING         </td></tr>\n",
       "\t<tr><th scope=row>6749</th><td>5               </td><td>24              </td><td>0.2839490       </td><td>-0.002808307    </td><td>-0.09582964     </td><td>-0.9937683      </td><td>-0.96769024     </td><td>-0.97137585     </td><td>0.9558020       </td><td>-0.1678566      </td><td>...             </td><td>-0.9872539      </td><td>-0.9922310      </td><td> 0.4159558      </td><td>-0.9877391      </td><td>-0.9849541      </td><td>-0.19412697     </td><td>-0.9958109      </td><td>-0.9962864      </td><td> 0.16318504     </td><td>STANDING        </td></tr>\n",
       "\t<tr><th scope=row>6212</th><td>4               </td><td>13              </td><td>0.2780453       </td><td>-0.017705545    </td><td>-0.11042396     </td><td>-0.9969197      </td><td>-0.99101841     </td><td>-0.99016588     </td><td>0.8930063       </td><td> 0.1787062      </td><td>...             </td><td>-0.9936580      </td><td>-0.9952053      </td><td> 0.5178847      </td><td>-0.9770132      </td><td>-0.9868721      </td><td> 0.33368252     </td><td>-0.9917966      </td><td>-0.9901377      </td><td>-0.26342622     </td><td>SITTING         </td></tr>\n",
       "</tbody>\n",
       "</table>\n"
      ],
      "text/latex": [
       "\\begin{tabular}{r|llllllllllllllllllllllllllllllllllllllllllllllllllllllllllllllllllllllllllllllllll}\n",
       "  & activityId & subjectId & TimeBodyAcc-Mean-X & TimeBodyAcc-Mean-Y & TimeBodyAcc-Mean-Z & TimeBodyAcc-Std-X & TimeBodyAcc-Std-Y & TimeBodyAcc-Std-Z & TimeGravityAcc-Mean-X & TimeGravityAcc-Mean-Y & ... & FrequencyBodyAccJerkMag-Mean & FrequencyBodyAccJerkMag-Std & FrequencyBodyAccJerkMag-MeanFreq & FrequencyBodyGyroMag-Mean & FrequencyBodyGyroMag-Std & FrequencyBodyGyroMag-MeanFreq & FrequencyBodyGyroJerkMag-Mean & FrequencyBodyGyroJerkMag-Std & FrequencyBodyGyroJerkMag-MeanFreq & activityName\\\\\n",
       "\\hline\n",
       "\t2375 & 2                  & 13                 & 0.2692011          &  0.007698895       & -0.11556435        & -0.2577623         & -0.06463850        & -0.01944747        & 0.7915239          & -0.3395834         & ...                & -0.4780776         & -0.4450419         & -0.2794398         & -0.4443509         & -0.5179933         & -0.01905509        & -0.5871941         & -0.6257509         &  0.15086061        & WALKING\\_UPSTAIRS\\\\\n",
       "\t3217 & 2                  & 28                 & 0.1781650          & -0.004595888       & -0.10992796        & -0.2239736         & -0.08002467        & -0.35928827        & 0.8350246          & -0.3458948         & ...                & -0.3818768         & -0.5062423         &  0.1806105         & -0.5021972         & -0.5739226         &  0.12261470        & -0.6346021         & -0.7017024         &  0.35258726        & WALKING\\_UPSTAIRS\\\\\n",
       "\t5924 & 4                & 23               & 0.2778493        & -0.018109759     & -0.11136876      & -0.9989252       & -0.99337009      & -0.99080907      & 0.9152003        &  0.1920065       & ...              & -0.9929539       & -0.9935082       &  0.5765395       & -0.9974161       & -0.9983727       &  0.66753629      & -0.9971067       & -0.9954582       &  0.04060354      & SITTING         \\\\\n",
       "\t6749 & 5                & 24               & 0.2839490        & -0.002808307     & -0.09582964      & -0.9937683       & -0.96769024      & -0.97137585      & 0.9558020        & -0.1678566       & ...              & -0.9872539       & -0.9922310       &  0.4159558       & -0.9877391       & -0.9849541       & -0.19412697      & -0.9958109       & -0.9962864       &  0.16318504      & STANDING        \\\\\n",
       "\t6212 & 4                & 13               & 0.2780453        & -0.017705545     & -0.11042396      & -0.9969197       & -0.99101841      & -0.99016588      & 0.8930063        &  0.1787062       & ...              & -0.9936580       & -0.9952053       &  0.5178847       & -0.9770132       & -0.9868721       &  0.33368252      & -0.9917966       & -0.9901377       & -0.26342622      & SITTING         \\\\\n",
       "\\end{tabular}\n"
      ],
      "text/markdown": [
       "\n",
       "| <!--/--> | activityId | subjectId | TimeBodyAcc-Mean-X | TimeBodyAcc-Mean-Y | TimeBodyAcc-Mean-Z | TimeBodyAcc-Std-X | TimeBodyAcc-Std-Y | TimeBodyAcc-Std-Z | TimeGravityAcc-Mean-X | TimeGravityAcc-Mean-Y | ... | FrequencyBodyAccJerkMag-Mean | FrequencyBodyAccJerkMag-Std | FrequencyBodyAccJerkMag-MeanFreq | FrequencyBodyGyroMag-Mean | FrequencyBodyGyroMag-Std | FrequencyBodyGyroMag-MeanFreq | FrequencyBodyGyroJerkMag-Mean | FrequencyBodyGyroJerkMag-Std | FrequencyBodyGyroJerkMag-MeanFreq | activityName | \n",
       "|---|---|---|---|---|\n",
       "| 2375 | 2                | 13               | 0.2692011        |  0.007698895     | -0.11556435      | -0.2577623       | -0.06463850      | -0.01944747      | 0.7915239        | -0.3395834       | ...              | -0.4780776       | -0.4450419       | -0.2794398       | -0.4443509       | -0.5179933       | -0.01905509      | -0.5871941       | -0.6257509       |  0.15086061      | WALKING_UPSTAIRS | \n",
       "| 3217 | 2                | 28               | 0.1781650        | -0.004595888     | -0.10992796      | -0.2239736       | -0.08002467      | -0.35928827      | 0.8350246        | -0.3458948       | ...              | -0.3818768       | -0.5062423       |  0.1806105       | -0.5021972       | -0.5739226       |  0.12261470      | -0.6346021       | -0.7017024       |  0.35258726      | WALKING_UPSTAIRS | \n",
       "| 5924 | 4                | 23               | 0.2778493        | -0.018109759     | -0.11136876      | -0.9989252       | -0.99337009      | -0.99080907      | 0.9152003        |  0.1920065       | ...              | -0.9929539       | -0.9935082       |  0.5765395       | -0.9974161       | -0.9983727       |  0.66753629      | -0.9971067       | -0.9954582       |  0.04060354      | SITTING          | \n",
       "| 6749 | 5                | 24               | 0.2839490        | -0.002808307     | -0.09582964      | -0.9937683       | -0.96769024      | -0.97137585      | 0.9558020        | -0.1678566       | ...              | -0.9872539       | -0.9922310       |  0.4159558       | -0.9877391       | -0.9849541       | -0.19412697      | -0.9958109       | -0.9962864       |  0.16318504      | STANDING         | \n",
       "| 6212 | 4                | 13               | 0.2780453        | -0.017705545     | -0.11042396      | -0.9969197       | -0.99101841      | -0.99016588      | 0.8930063        |  0.1787062       | ...              | -0.9936580       | -0.9952053       |  0.5178847       | -0.9770132       | -0.9868721       |  0.33368252      | -0.9917966       | -0.9901377       | -0.26342622      | SITTING          | \n",
       "\n",
       "\n"
      ],
      "text/plain": [
       "     activityId subjectId TimeBodyAcc-Mean-X TimeBodyAcc-Mean-Y\n",
       "2375 2          13        0.2692011           0.007698895      \n",
       "3217 2          28        0.1781650          -0.004595888      \n",
       "5924 4          23        0.2778493          -0.018109759      \n",
       "6749 5          24        0.2839490          -0.002808307      \n",
       "6212 4          13        0.2780453          -0.017705545      \n",
       "     TimeBodyAcc-Mean-Z TimeBodyAcc-Std-X TimeBodyAcc-Std-Y TimeBodyAcc-Std-Z\n",
       "2375 -0.11556435        -0.2577623        -0.06463850       -0.01944747      \n",
       "3217 -0.10992796        -0.2239736        -0.08002467       -0.35928827      \n",
       "5924 -0.11136876        -0.9989252        -0.99337009       -0.99080907      \n",
       "6749 -0.09582964        -0.9937683        -0.96769024       -0.97137585      \n",
       "6212 -0.11042396        -0.9969197        -0.99101841       -0.99016588      \n",
       "     TimeGravityAcc-Mean-X TimeGravityAcc-Mean-Y ...\n",
       "2375 0.7915239             -0.3395834            ...\n",
       "3217 0.8350246             -0.3458948            ...\n",
       "5924 0.9152003              0.1920065            ...\n",
       "6749 0.9558020             -0.1678566            ...\n",
       "6212 0.8930063              0.1787062            ...\n",
       "     FrequencyBodyAccJerkMag-Mean FrequencyBodyAccJerkMag-Std\n",
       "2375 -0.4780776                   -0.4450419                 \n",
       "3217 -0.3818768                   -0.5062423                 \n",
       "5924 -0.9929539                   -0.9935082                 \n",
       "6749 -0.9872539                   -0.9922310                 \n",
       "6212 -0.9936580                   -0.9952053                 \n",
       "     FrequencyBodyAccJerkMag-MeanFreq FrequencyBodyGyroMag-Mean\n",
       "2375 -0.2794398                       -0.4443509               \n",
       "3217  0.1806105                       -0.5021972               \n",
       "5924  0.5765395                       -0.9974161               \n",
       "6749  0.4159558                       -0.9877391               \n",
       "6212  0.5178847                       -0.9770132               \n",
       "     FrequencyBodyGyroMag-Std FrequencyBodyGyroMag-MeanFreq\n",
       "2375 -0.5179933               -0.01905509                  \n",
       "3217 -0.5739226                0.12261470                  \n",
       "5924 -0.9983727                0.66753629                  \n",
       "6749 -0.9849541               -0.19412697                  \n",
       "6212 -0.9868721                0.33368252                  \n",
       "     FrequencyBodyGyroJerkMag-Mean FrequencyBodyGyroJerkMag-Std\n",
       "2375 -0.5871941                    -0.6257509                  \n",
       "3217 -0.6346021                    -0.7017024                  \n",
       "5924 -0.9971067                    -0.9954582                  \n",
       "6749 -0.9958109                    -0.9962864                  \n",
       "6212 -0.9917966                    -0.9901377                  \n",
       "     FrequencyBodyGyroJerkMag-MeanFreq activityName    \n",
       "2375  0.15086061                       WALKING_UPSTAIRS\n",
       "3217  0.35258726                       WALKING_UPSTAIRS\n",
       "5924  0.04060354                       SITTING         \n",
       "6749  0.16318504                       STANDING        \n",
       "6212 -0.26342622                       SITTING         "
      ]
     },
     "metadata": {},
     "output_type": "display_data"
    }
   ],
   "source": [
    "sample_n(data_with_activity_names, 5)"
   ]
  },
  {
   "cell_type": "markdown",
   "metadata": {},
   "source": [
    "# 5. From the data set in step 4, creates a second, independent tidy data set with the average of each variable for each activity and each subject."
   ]
  },
  {
   "cell_type": "code",
   "execution_count": 288,
   "metadata": {},
   "outputs": [],
   "source": [
    "second_tidy_data_set <- data_with_activity_names %>% group_by(activityId,activityName, subjectId) %>% summarise_all(mean)"
   ]
  },
  {
   "cell_type": "code",
   "execution_count": 289,
   "metadata": {
    "collapsed": true
   },
   "outputs": [],
   "source": [
    "write.table(second_tidy_data_set,\"second_tidy_data_set.txt\",sep=\"\\t\", row.names = TRUE, quote = FALSE)\n",
    "write.csv(second_tidy_data_set,\"second_tidy_data_set.csv\",row.names = TRUE, quote = FALSE)"
   ]
  },
  {
   "cell_type": "code",
   "execution_count": 290,
   "metadata": {},
   "outputs": [
    {
     "data": {
      "text/html": [
       "<ol class=list-inline>\n",
       "\t<li>180</li>\n",
       "\t<li>82</li>\n",
       "</ol>\n"
      ],
      "text/latex": [
       "\\begin{enumerate*}\n",
       "\\item 180\n",
       "\\item 82\n",
       "\\end{enumerate*}\n"
      ],
      "text/markdown": [
       "1. 180\n",
       "2. 82\n",
       "\n",
       "\n"
      ],
      "text/plain": [
       "[1] 180  82"
      ]
     },
     "metadata": {},
     "output_type": "display_data"
    }
   ],
   "source": [
    "dim(second_tidy_data_set)"
   ]
  },
  {
   "cell_type": "code",
   "execution_count": null,
   "metadata": {
    "collapsed": true
   },
   "outputs": [],
   "source": []
  }
 ],
 "metadata": {
  "kernelspec": {
   "display_name": "R",
   "language": "R",
   "name": "ir"
  },
  "language_info": {
   "codemirror_mode": "r",
   "file_extension": ".r",
   "mimetype": "text/x-r-source",
   "name": "R",
   "pygments_lexer": "r",
   "version": "3.5.1"
  }
 },
 "nbformat": 4,
 "nbformat_minor": 2
}
